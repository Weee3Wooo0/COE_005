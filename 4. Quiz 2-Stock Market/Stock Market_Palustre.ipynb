{
 "cells": [
  {
   "cell_type": "code",
   "execution_count": 1,
   "id": "1d838634",
   "metadata": {
    "execution": {
     "iopub.execute_input": "2022-02-16T19:27:05.788361Z",
     "iopub.status.busy": "2022-02-16T19:27:05.787749Z",
     "iopub.status.idle": "2022-02-16T19:27:06.931166Z",
     "shell.execute_reply": "2022-02-16T19:27:06.930407Z",
     "shell.execute_reply.started": "2022-02-16T19:18:04.100508Z"
    },
    "papermill": {
     "duration": 1.192699,
     "end_time": "2022-02-16T19:27:06.931324",
     "exception": false,
     "start_time": "2022-02-16T19:27:05.738625",
     "status": "completed"
    },
    "tags": []
   },
   "outputs": [],
   "source": [
    "import pandas as pd\n",
    "import numpy as np\n",
    "\n",
    "import matplotlib.pyplot as plt\n",
    "import seaborn as sns\n",
    "sns.set_style('whitegrid')\n",
    "plt.style.use(\"fivethirtyeight\")\n",
    "%matplotlib inline\n",
    "\n",
    "# For reading stock data from yahoo\n",
    "from pandas_datareader.data import DataReader\n",
    "import yfinance as yf\n",
    "\n",
    "# For time stamps\n",
    "from datetime import datetime"
   ]
  },
  {
   "cell_type": "code",
   "execution_count": 2,
   "id": "3377e80e",
   "metadata": {
    "execution": {
     "iopub.execute_input": "2022-02-16T19:27:07.075425Z",
     "iopub.status.busy": "2022-02-16T19:27:07.068050Z",
     "iopub.status.idle": "2022-02-16T19:27:07.634299Z",
     "shell.execute_reply": "2022-02-16T19:27:07.633753Z",
     "shell.execute_reply.started": "2022-02-16T19:18:05.160779Z"
    },
    "papermill": {
     "duration": 0.640329,
     "end_time": "2022-02-16T19:27:07.634422",
     "exception": false,
     "start_time": "2022-02-16T19:27:06.994093",
     "status": "completed"
    },
    "tags": []
   },
   "outputs": [
    {
     "name": "stdout",
     "output_type": "stream",
     "text": [
      "[*********************100%***********************]  1 of 1 completed\n"
     ]
    }
   ],
   "source": [
    "# The tech stocks we'll use for this analysis\n",
    "tech_list = ['SMGBY']\n",
    "\n",
    "# Set up End and Start times for data grab\n",
    "tech_list = ['SMGBY']\n",
    "\n",
    "end = datetime.now()\n",
    "start = datetime(end.year - 2, end.month, end.day)\n",
    "\n",
    "for stock in tech_list:\n",
    "    globals()[stock] = yf.download(stock, start, end)"
   ]
  },
  {
   "cell_type": "code",
   "execution_count": 3,
   "id": "ca591807",
   "metadata": {
    "execution": {
     "iopub.execute_input": "2022-02-16T19:27:07.898256Z",
     "iopub.status.busy": "2022-02-16T19:27:07.897723Z",
     "iopub.status.idle": "2022-02-16T19:27:07.900453Z",
     "shell.execute_reply": "2022-02-16T19:27:07.899947Z",
     "shell.execute_reply.started": "2022-02-16T19:18:06.709889Z"
    },
    "papermill": {
     "duration": 0.0507,
     "end_time": "2022-02-16T19:27:07.900598",
     "exception": false,
     "start_time": "2022-02-16T19:27:07.849898",
     "status": "completed"
    },
    "tags": []
   },
   "outputs": [],
   "source": [
    "# for company, company_name in zip(company_list, tech_list):\n",
    "#     company[\"company_name\"] = company_name"
   ]
  },
  {
   "cell_type": "code",
   "execution_count": 4,
   "id": "c770d4a3",
   "metadata": {
    "execution": {
     "iopub.execute_input": "2022-02-16T19:27:07.996756Z",
     "iopub.status.busy": "2022-02-16T19:27:07.992978Z",
     "iopub.status.idle": "2022-02-16T19:27:08.024063Z",
     "shell.execute_reply": "2022-02-16T19:27:08.023537Z",
     "shell.execute_reply.started": "2022-02-16T19:18:06.716011Z"
    },
    "papermill": {
     "duration": 0.080217,
     "end_time": "2022-02-16T19:27:08.024191",
     "exception": false,
     "start_time": "2022-02-16T19:27:07.943974",
     "status": "completed"
    },
    "tags": []
   },
   "outputs": [
    {
     "data": {
      "text/html": [
       "<div>\n",
       "<style scoped>\n",
       "    .dataframe tbody tr th:only-of-type {\n",
       "        vertical-align: middle;\n",
       "    }\n",
       "\n",
       "    .dataframe tbody tr th {\n",
       "        vertical-align: top;\n",
       "    }\n",
       "\n",
       "    .dataframe thead th {\n",
       "        text-align: right;\n",
       "    }\n",
       "</style>\n",
       "<table border=\"1\" class=\"dataframe\">\n",
       "  <thead>\n",
       "    <tr style=\"text-align: right;\">\n",
       "      <th></th>\n",
       "      <th>Open</th>\n",
       "      <th>High</th>\n",
       "      <th>Low</th>\n",
       "      <th>Close</th>\n",
       "      <th>Adj Close</th>\n",
       "      <th>Volume</th>\n",
       "      <th>company_name</th>\n",
       "    </tr>\n",
       "    <tr>\n",
       "      <th>Date</th>\n",
       "      <th></th>\n",
       "      <th></th>\n",
       "      <th></th>\n",
       "      <th></th>\n",
       "      <th></th>\n",
       "      <th></th>\n",
       "      <th></th>\n",
       "    </tr>\n",
       "  </thead>\n",
       "  <tbody>\n",
       "    <tr>\n",
       "      <th>2022-09-28 00:00:00-04:00</th>\n",
       "      <td>16.600000</td>\n",
       "      <td>16.600000</td>\n",
       "      <td>16.600000</td>\n",
       "      <td>16.600000</td>\n",
       "      <td>16.541128</td>\n",
       "      <td>0</td>\n",
       "      <td>SAN MIGUEL CORPORATION</td>\n",
       "    </tr>\n",
       "    <tr>\n",
       "      <th>2022-09-29 00:00:00-04:00</th>\n",
       "      <td>16.600000</td>\n",
       "      <td>16.600000</td>\n",
       "      <td>16.600000</td>\n",
       "      <td>16.600000</td>\n",
       "      <td>16.541128</td>\n",
       "      <td>0</td>\n",
       "      <td>SAN MIGUEL CORPORATION</td>\n",
       "    </tr>\n",
       "    <tr>\n",
       "      <th>2022-09-30 00:00:00-04:00</th>\n",
       "      <td>17.200001</td>\n",
       "      <td>17.200001</td>\n",
       "      <td>17.200001</td>\n",
       "      <td>17.200001</td>\n",
       "      <td>17.139000</td>\n",
       "      <td>100</td>\n",
       "      <td>SAN MIGUEL CORPORATION</td>\n",
       "    </tr>\n",
       "    <tr>\n",
       "      <th>2022-10-03 00:00:00-04:00</th>\n",
       "      <td>17.200001</td>\n",
       "      <td>17.200001</td>\n",
       "      <td>17.200001</td>\n",
       "      <td>17.200001</td>\n",
       "      <td>17.139000</td>\n",
       "      <td>0</td>\n",
       "      <td>SAN MIGUEL CORPORATION</td>\n",
       "    </tr>\n",
       "    <tr>\n",
       "      <th>2022-10-04 00:00:00-04:00</th>\n",
       "      <td>17.200001</td>\n",
       "      <td>17.200001</td>\n",
       "      <td>17.200001</td>\n",
       "      <td>17.200001</td>\n",
       "      <td>17.139000</td>\n",
       "      <td>0</td>\n",
       "      <td>SAN MIGUEL CORPORATION</td>\n",
       "    </tr>\n",
       "    <tr>\n",
       "      <th>2022-10-05 00:00:00-04:00</th>\n",
       "      <td>16.219999</td>\n",
       "      <td>16.219999</td>\n",
       "      <td>16.219999</td>\n",
       "      <td>16.219999</td>\n",
       "      <td>16.219999</td>\n",
       "      <td>400</td>\n",
       "      <td>SAN MIGUEL CORPORATION</td>\n",
       "    </tr>\n",
       "    <tr>\n",
       "      <th>2022-10-06 00:00:00-04:00</th>\n",
       "      <td>16.219999</td>\n",
       "      <td>16.219999</td>\n",
       "      <td>16.219999</td>\n",
       "      <td>16.219999</td>\n",
       "      <td>16.219999</td>\n",
       "      <td>0</td>\n",
       "      <td>SAN MIGUEL CORPORATION</td>\n",
       "    </tr>\n",
       "    <tr>\n",
       "      <th>2022-10-07 00:00:00-04:00</th>\n",
       "      <td>16.219999</td>\n",
       "      <td>16.219999</td>\n",
       "      <td>16.219999</td>\n",
       "      <td>16.219999</td>\n",
       "      <td>16.219999</td>\n",
       "      <td>0</td>\n",
       "      <td>SAN MIGUEL CORPORATION</td>\n",
       "    </tr>\n",
       "    <tr>\n",
       "      <th>2022-10-10 00:00:00-04:00</th>\n",
       "      <td>16.219999</td>\n",
       "      <td>16.219999</td>\n",
       "      <td>16.219999</td>\n",
       "      <td>16.219999</td>\n",
       "      <td>16.219999</td>\n",
       "      <td>0</td>\n",
       "      <td>SAN MIGUEL CORPORATION</td>\n",
       "    </tr>\n",
       "    <tr>\n",
       "      <th>2022-10-11 00:00:00-04:00</th>\n",
       "      <td>17.200001</td>\n",
       "      <td>17.200001</td>\n",
       "      <td>17.200001</td>\n",
       "      <td>17.200001</td>\n",
       "      <td>17.200001</td>\n",
       "      <td>100</td>\n",
       "      <td>SAN MIGUEL CORPORATION</td>\n",
       "    </tr>\n",
       "  </tbody>\n",
       "</table>\n",
       "</div>"
      ],
      "text/plain": [
       "                                Open       High        Low      Close  \\\n",
       "Date                                                                    \n",
       "2022-09-28 00:00:00-04:00  16.600000  16.600000  16.600000  16.600000   \n",
       "2022-09-29 00:00:00-04:00  16.600000  16.600000  16.600000  16.600000   \n",
       "2022-09-30 00:00:00-04:00  17.200001  17.200001  17.200001  17.200001   \n",
       "2022-10-03 00:00:00-04:00  17.200001  17.200001  17.200001  17.200001   \n",
       "2022-10-04 00:00:00-04:00  17.200001  17.200001  17.200001  17.200001   \n",
       "2022-10-05 00:00:00-04:00  16.219999  16.219999  16.219999  16.219999   \n",
       "2022-10-06 00:00:00-04:00  16.219999  16.219999  16.219999  16.219999   \n",
       "2022-10-07 00:00:00-04:00  16.219999  16.219999  16.219999  16.219999   \n",
       "2022-10-10 00:00:00-04:00  16.219999  16.219999  16.219999  16.219999   \n",
       "2022-10-11 00:00:00-04:00  17.200001  17.200001  17.200001  17.200001   \n",
       "\n",
       "                           Adj Close  Volume            company_name  \n",
       "Date                                                                  \n",
       "2022-09-28 00:00:00-04:00  16.541128       0  SAN MIGUEL CORPORATION  \n",
       "2022-09-29 00:00:00-04:00  16.541128       0  SAN MIGUEL CORPORATION  \n",
       "2022-09-30 00:00:00-04:00  17.139000     100  SAN MIGUEL CORPORATION  \n",
       "2022-10-03 00:00:00-04:00  17.139000       0  SAN MIGUEL CORPORATION  \n",
       "2022-10-04 00:00:00-04:00  17.139000       0  SAN MIGUEL CORPORATION  \n",
       "2022-10-05 00:00:00-04:00  16.219999     400  SAN MIGUEL CORPORATION  \n",
       "2022-10-06 00:00:00-04:00  16.219999       0  SAN MIGUEL CORPORATION  \n",
       "2022-10-07 00:00:00-04:00  16.219999       0  SAN MIGUEL CORPORATION  \n",
       "2022-10-10 00:00:00-04:00  16.219999       0  SAN MIGUEL CORPORATION  \n",
       "2022-10-11 00:00:00-04:00  17.200001     100  SAN MIGUEL CORPORATION  "
      ]
     },
     "execution_count": 4,
     "metadata": {},
     "output_type": "execute_result"
    }
   ],
   "source": [
    "company_list = [SMGBY]\n",
    "company_name = [\"SAN MIGUEL CORPORATION\"]\n",
    "\n",
    "for company, com_name in zip(company_list, company_name):\n",
    "    company[\"company_name\"] = com_name\n",
    "    \n",
    "df = pd.concat(company_list, axis=0)\n",
    "df.tail(10)"
   ]
  },
  {
   "cell_type": "code",
   "execution_count": 5,
   "id": "781915d5",
   "metadata": {
    "execution": {
     "iopub.execute_input": "2022-02-16T19:27:08.117709Z",
     "iopub.status.busy": "2022-02-16T19:27:08.113434Z",
     "iopub.status.idle": "2022-02-16T19:27:08.142402Z",
     "shell.execute_reply": "2022-02-16T19:27:08.142903Z",
     "shell.execute_reply.started": "2022-02-16T19:18:06.755442Z"
    },
    "papermill": {
     "duration": 0.075294,
     "end_time": "2022-02-16T19:27:08.143101",
     "exception": false,
     "start_time": "2022-02-16T19:27:08.067807",
     "status": "completed"
    },
    "tags": []
   },
   "outputs": [
    {
     "data": {
      "text/html": [
       "<div>\n",
       "<style scoped>\n",
       "    .dataframe tbody tr th:only-of-type {\n",
       "        vertical-align: middle;\n",
       "    }\n",
       "\n",
       "    .dataframe tbody tr th {\n",
       "        vertical-align: top;\n",
       "    }\n",
       "\n",
       "    .dataframe thead th {\n",
       "        text-align: right;\n",
       "    }\n",
       "</style>\n",
       "<table border=\"1\" class=\"dataframe\">\n",
       "  <thead>\n",
       "    <tr style=\"text-align: right;\">\n",
       "      <th></th>\n",
       "      <th>Open</th>\n",
       "      <th>High</th>\n",
       "      <th>Low</th>\n",
       "      <th>Close</th>\n",
       "      <th>Adj Close</th>\n",
       "      <th>Volume</th>\n",
       "    </tr>\n",
       "  </thead>\n",
       "  <tbody>\n",
       "    <tr>\n",
       "      <th>count</th>\n",
       "      <td>504.000000</td>\n",
       "      <td>504.000000</td>\n",
       "      <td>504.000000</td>\n",
       "      <td>504.000000</td>\n",
       "      <td>504.000000</td>\n",
       "      <td>504.000000</td>\n",
       "    </tr>\n",
       "    <tr>\n",
       "      <th>mean</th>\n",
       "      <td>22.282639</td>\n",
       "      <td>22.283611</td>\n",
       "      <td>22.267917</td>\n",
       "      <td>22.268889</td>\n",
       "      <td>21.938539</td>\n",
       "      <td>92.063492</td>\n",
       "    </tr>\n",
       "    <tr>\n",
       "      <th>std</th>\n",
       "      <td>2.768605</td>\n",
       "      <td>2.769162</td>\n",
       "      <td>2.745961</td>\n",
       "      <td>2.746528</td>\n",
       "      <td>2.589348</td>\n",
       "      <td>459.163935</td>\n",
       "    </tr>\n",
       "    <tr>\n",
       "      <th>min</th>\n",
       "      <td>16.219999</td>\n",
       "      <td>16.219999</td>\n",
       "      <td>16.219999</td>\n",
       "      <td>16.219999</td>\n",
       "      <td>16.219999</td>\n",
       "      <td>0.000000</td>\n",
       "    </tr>\n",
       "    <tr>\n",
       "      <th>25%</th>\n",
       "      <td>20.500000</td>\n",
       "      <td>20.500000</td>\n",
       "      <td>20.500000</td>\n",
       "      <td>20.500000</td>\n",
       "      <td>20.107981</td>\n",
       "      <td>0.000000</td>\n",
       "    </tr>\n",
       "    <tr>\n",
       "      <th>50%</th>\n",
       "      <td>22.490000</td>\n",
       "      <td>22.490000</td>\n",
       "      <td>22.490000</td>\n",
       "      <td>22.490000</td>\n",
       "      <td>22.192007</td>\n",
       "      <td>0.000000</td>\n",
       "    </tr>\n",
       "    <tr>\n",
       "      <th>75%</th>\n",
       "      <td>24.409999</td>\n",
       "      <td>24.409999</td>\n",
       "      <td>24.409999</td>\n",
       "      <td>24.409999</td>\n",
       "      <td>23.971243</td>\n",
       "      <td>0.000000</td>\n",
       "    </tr>\n",
       "    <tr>\n",
       "      <th>max</th>\n",
       "      <td>30.420000</td>\n",
       "      <td>30.420000</td>\n",
       "      <td>30.420000</td>\n",
       "      <td>30.420000</td>\n",
       "      <td>29.664633</td>\n",
       "      <td>7300.000000</td>\n",
       "    </tr>\n",
       "  </tbody>\n",
       "</table>\n",
       "</div>"
      ],
      "text/plain": [
       "             Open        High         Low       Close   Adj Close       Volume\n",
       "count  504.000000  504.000000  504.000000  504.000000  504.000000   504.000000\n",
       "mean    22.282639   22.283611   22.267917   22.268889   21.938539    92.063492\n",
       "std      2.768605    2.769162    2.745961    2.746528    2.589348   459.163935\n",
       "min     16.219999   16.219999   16.219999   16.219999   16.219999     0.000000\n",
       "25%     20.500000   20.500000   20.500000   20.500000   20.107981     0.000000\n",
       "50%     22.490000   22.490000   22.490000   22.490000   22.192007     0.000000\n",
       "75%     24.409999   24.409999   24.409999   24.409999   23.971243     0.000000\n",
       "max     30.420000   30.420000   30.420000   30.420000   29.664633  7300.000000"
      ]
     },
     "execution_count": 5,
     "metadata": {},
     "output_type": "execute_result"
    }
   ],
   "source": [
    "# Summary Stats\n",
    "SMGBY.describe()"
   ]
  },
  {
   "cell_type": "code",
   "execution_count": 6,
   "id": "3620c912",
   "metadata": {
    "execution": {
     "iopub.execute_input": "2022-02-16T19:27:08.252033Z",
     "iopub.status.busy": "2022-02-16T19:27:08.251458Z",
     "iopub.status.idle": "2022-02-16T19:27:08.253464Z",
     "shell.execute_reply": "2022-02-16T19:27:08.253958Z",
     "shell.execute_reply.started": "2022-02-16T19:18:06.788008Z"
    },
    "papermill": {
     "duration": 0.064732,
     "end_time": "2022-02-16T19:27:08.254102",
     "exception": false,
     "start_time": "2022-02-16T19:27:08.189370",
     "status": "completed"
    },
    "tags": []
   },
   "outputs": [
    {
     "name": "stdout",
     "output_type": "stream",
     "text": [
      "<class 'pandas.core.frame.DataFrame'>\n",
      "DatetimeIndex: 504 entries, 2020-10-12 00:00:00-04:00 to 2022-10-11 00:00:00-04:00\n",
      "Data columns (total 7 columns):\n",
      " #   Column        Non-Null Count  Dtype  \n",
      "---  ------        --------------  -----  \n",
      " 0   Open          504 non-null    float64\n",
      " 1   High          504 non-null    float64\n",
      " 2   Low           504 non-null    float64\n",
      " 3   Close         504 non-null    float64\n",
      " 4   Adj Close     504 non-null    float64\n",
      " 5   Volume        504 non-null    int64  \n",
      " 6   company_name  504 non-null    object \n",
      "dtypes: float64(5), int64(1), object(1)\n",
      "memory usage: 31.5+ KB\n"
     ]
    }
   ],
   "source": [
    "# General info\n",
    "SMGBY.info()"
   ]
  },
  {
   "cell_type": "code",
   "execution_count": 7,
   "id": "11a7b74a",
   "metadata": {
    "execution": {
     "iopub.execute_input": "2022-02-16T19:27:08.355819Z",
     "iopub.status.busy": "2022-02-16T19:27:08.346429Z",
     "iopub.status.idle": "2022-02-16T19:27:10.178634Z",
     "shell.execute_reply": "2022-02-16T19:27:10.179205Z",
     "shell.execute_reply.started": "2022-02-16T19:18:06.807319Z"
    },
    "papermill": {
     "duration": 1.880434,
     "end_time": "2022-02-16T19:27:10.179406",
     "exception": false,
     "start_time": "2022-02-16T19:27:08.298972",
     "status": "completed"
    },
    "tags": []
   },
   "outputs": [
    {
     "data": {
      "image/png": "[encoded data removed]",
      "text/plain": [
       "<Figure size 1080x432 with 1 Axes>"
      ]
     },
     "metadata": {
      "needs_background": "light"
     },
     "output_type": "display_data"
    }
   ],
   "source": [
    "# Let's see a historical view of the closing price\n",
    "\n",
    "\n",
    "plt.figure(figsize=(15, 6))\n",
    "plt.subplots_adjust(top=1.25, bottom=1.2)\n",
    "\n",
    "for i, company in enumerate(company_list, 1):\n",
    "    plt.subplot(2, 2, i)\n",
    "    company['Adj Close'].plot()\n",
    "    plt.ylabel('Adj Close')\n",
    "    plt.xlabel(None)\n",
    "    plt.title(f\"Closing Price of {tech_list[i - 1]}\")\n",
    "    \n",
    "plt.show()"
   ]
  },
  {
   "cell_type": "code",
   "execution_count": 8,
   "id": "3ac910ad",
   "metadata": {
    "execution": {
     "iopub.execute_input": "2022-02-16T19:27:10.385619Z",
     "iopub.status.busy": "2022-02-16T19:27:10.384845Z",
     "iopub.status.idle": "2022-02-16T19:27:11.592955Z",
     "shell.execute_reply": "2022-02-16T19:27:11.592397Z",
     "shell.execute_reply.started": "2022-02-16T19:18:08.466175Z"
    },
    "papermill": {
     "duration": 1.341359,
     "end_time": "2022-02-16T19:27:11.593099",
     "exception": false,
     "start_time": "2022-02-16T19:27:10.251740",
     "status": "completed"
    },
    "tags": []
   },
   "outputs": [
    {
     "data": {
      "image/png": "[encoded data removed]",
      "text/plain": [
       "<Figure size 1080x504 with 1 Axes>"
      ]
     },
     "metadata": {
      "needs_background": "light"
     },
     "output_type": "display_data"
    }
   ],
   "source": [
    "# Now let's plot the total volume of stock being traded each day\n",
    "plt.figure(figsize=(15, 7))\n",
    "plt.subplots_adjust(top=1.25, bottom=1.2)\n",
    "\n",
    "for i, company in enumerate(company_list, 1):\n",
    "    plt.subplot(2, 2, i)\n",
    "    company['Volume'].plot()\n",
    "    plt.ylabel('Volume')\n",
    "    plt.xlabel(None)\n",
    "    plt.title(f\"Sales Volume for {tech_list[i - 1]}\")\n",
    "    \n",
    "plt.show()"
   ]
  },
  {
   "cell_type": "markdown",
   "id": "36c1e270",
   "metadata": {
    "papermill": {
     "duration": 0.073383,
     "end_time": "2022-02-16T19:27:11.891348",
     "exception": false,
     "start_time": "2022-02-16T19:27:11.817965",
     "status": "completed"
    },
    "tags": []
   },
   "source": [
    "# 2. What was the moving average of the various stocks?"
   ]
  },
  {
   "cell_type": "code",
   "execution_count": 9,
   "id": "540ac7c0",
   "metadata": {
    "execution": {
     "iopub.execute_input": "2022-02-16T19:27:12.050425Z",
     "iopub.status.busy": "2022-02-16T19:27:12.049529Z",
     "iopub.status.idle": "2022-02-16T19:27:12.058905Z",
     "shell.execute_reply": "2022-02-16T19:27:12.059457Z",
     "shell.execute_reply.started": "2022-02-16T19:18:10.128304Z"
    },
    "papermill": {
     "duration": 0.094078,
     "end_time": "2022-02-16T19:27:12.059650",
     "exception": false,
     "start_time": "2022-02-16T19:27:11.965572",
     "status": "completed"
    },
    "tags": []
   },
   "outputs": [],
   "source": [
    "ma_day = [10, 20, 50]\n",
    "\n",
    "for ma in ma_day:\n",
    "    for company in company_list:\n",
    "        column_name = f\"MA for {ma} days\"\n",
    "        company[column_name] = company['Adj Close'].rolling(ma).mean()\n"
   ]
  },
  {
   "cell_type": "code",
   "execution_count": 10,
   "id": "4fc97ba6",
   "metadata": {
    "execution": {
     "iopub.execute_input": "2022-02-16T19:27:12.216483Z",
     "iopub.status.busy": "2022-02-16T19:27:12.215660Z",
     "iopub.status.idle": "2022-02-16T19:27:12.219132Z",
     "shell.execute_reply": "2022-02-16T19:27:12.218683Z",
     "shell.execute_reply.started": "2022-02-16T19:18:10.149731Z"
    },
    "papermill": {
     "duration": 0.085878,
     "end_time": "2022-02-16T19:27:12.219280",
     "exception": false,
     "start_time": "2022-02-16T19:27:12.133402",
     "status": "completed"
    },
    "tags": []
   },
   "outputs": [],
   "source": [
    "#print(SMGBY.columns)"
   ]
  },
  {
   "cell_type": "code",
   "execution_count": 11,
   "id": "e76783f2",
   "metadata": {
    "execution": {
     "iopub.execute_input": "2022-02-16T19:27:12.428756Z",
     "iopub.status.busy": "2022-02-16T19:27:12.427986Z",
     "iopub.status.idle": "2022-02-16T19:27:12.430573Z",
     "shell.execute_reply": "2022-02-16T19:27:12.429874Z",
     "shell.execute_reply.started": "2022-02-16T19:18:10.157027Z"
    },
    "papermill": {
     "duration": 0.054904,
     "end_time": "2022-02-16T19:27:12.430727",
     "exception": false,
     "start_time": "2022-02-16T19:27:12.375823",
     "status": "completed"
    },
    "tags": []
   },
   "outputs": [],
   "source": [
    "#df.groupby(\"company_name\").hist(figsize=(12, 12));"
   ]
  },
  {
   "cell_type": "code",
   "execution_count": 12,
   "id": "c75ce7ff",
   "metadata": {
    "execution": {
     "iopub.execute_input": "2022-02-16T19:27:12.585179Z",
     "iopub.status.busy": "2022-02-16T19:27:12.584500Z",
     "iopub.status.idle": "2022-02-16T19:27:14.118304Z",
     "shell.execute_reply": "2022-02-16T19:27:14.117695Z",
     "shell.execute_reply.started": "2022-02-16T19:18:10.166658Z"
    },
    "papermill": {
     "duration": 1.612587,
     "end_time": "2022-02-16T19:27:14.118464",
     "exception": false,
     "start_time": "2022-02-16T19:27:12.505877",
     "status": "completed"
    },
    "tags": []
   },
   "outputs": [
    {
     "data": {
      "image/png": "[encoded data removed]",
      "text/plain": [
       "<Figure size 720x360 with 1 Axes>"
      ]
     },
     "metadata": {
      "needs_background": "light"
     },
     "output_type": "display_data"
    }
   ],
   "source": [
    "fig, axes = plt.subplots()\n",
    "fig.set_figheight(5)\n",
    "fig.set_figwidth(10)\n",
    "\n",
    "SMGBY[['Adj Close', 'MA for 10 days', 'MA for 20 days', 'MA for 50 days']].plot(ax=axes)\n",
    "axes.set_title('SAN MIGUEL CORPORATION')\n",
    "\n",
    "fig.tight_layout()"
   ]
  },
  {
   "cell_type": "code",
   "execution_count": 13,
   "id": "a79fcd53",
   "metadata": {
    "execution": {
     "iopub.execute_input": "2022-02-16T19:27:14.601078Z",
     "iopub.status.busy": "2022-02-16T19:27:14.600348Z",
     "iopub.status.idle": "2022-02-16T19:27:16.432387Z",
     "shell.execute_reply": "2022-02-16T19:27:16.432964Z",
     "shell.execute_reply.started": "2022-02-16T19:18:12.132214Z"
    },
    "papermill": {
     "duration": 1.922179,
     "end_time": "2022-02-16T19:27:16.433138",
     "exception": false,
     "start_time": "2022-02-16T19:27:14.510959",
     "status": "completed"
    },
    "tags": []
   },
   "outputs": [
    {
     "data": {
      "image/png": "[encoded data removed]",
      "text/plain": [
       "<Figure size 1080x576 with 1 Axes>"
      ]
     },
     "metadata": {
      "needs_background": "light"
     },
     "output_type": "display_data"
    }
   ],
   "source": [
    "# We'll use pct_change to find the percent change for each day\n",
    "for company in company_list:\n",
    "    company['Daily Return'] = company['Adj Close'].pct_change()\n",
    "\n",
    "# Then we'll plot the daily return percentage\n",
    "fig, axes = plt.subplots()\n",
    "fig.set_figheight(8)\n",
    "fig.set_figwidth(15)\n",
    "\n",
    "SMGBY['Daily Return'].plot(ax=axes, legend=True, linestyle='--', marker='o')\n",
    "axes.set_title('SAN MIGUEL CORPORATION')\n",
    "\n",
    "fig.tight_layout()"
   ]
  },
  {
   "cell_type": "code",
   "execution_count": 14,
   "id": "ceb0cac7",
   "metadata": {
    "execution": {
     "iopub.execute_input": "2022-02-16T19:27:16.777513Z",
     "iopub.status.busy": "2022-02-16T19:27:16.774356Z",
     "iopub.status.idle": "2022-02-16T19:27:17.790843Z",
     "shell.execute_reply": "2022-02-16T19:27:17.791424Z",
     "shell.execute_reply.started": "2022-02-16T19:19:48.119435Z"
    },
    "papermill": {
     "duration": 1.11475,
     "end_time": "2022-02-16T19:27:17.791632",
     "exception": false,
     "start_time": "2022-02-16T19:27:16.676882",
     "status": "completed"
    },
    "tags": []
   },
   "outputs": [
    {
     "data": {
      "image/png": "[encoded data removed]",
      "text/plain": [
       "<Figure size 864x504 with 1 Axes>"
      ]
     },
     "metadata": {
      "needs_background": "light"
     },
     "output_type": "display_data"
    }
   ],
   "source": [
    "plt.figure(figsize=(12, 7))\n",
    "\n",
    "for i, company in enumerate(company_list, 1):\n",
    "    plt.subplot(2, 2, i)\n",
    "    company['Daily Return'].hist(bins=50)\n",
    "    plt.ylabel('Daily Return')\n",
    "    plt.title(f'{company_name[i - 1]}')\n",
    "    \n",
    "plt.tight_layout()"
   ]
  },
  {
   "cell_type": "code",
   "execution_count": 15,
   "id": "411703be",
   "metadata": {
    "execution": {
     "iopub.execute_input": "2022-02-16T19:27:18.295168Z",
     "iopub.status.busy": "2022-02-16T19:27:18.294457Z",
     "iopub.status.idle": "2022-02-16T19:27:22.234051Z",
     "shell.execute_reply": "2022-02-16T19:27:22.233391Z",
     "shell.execute_reply.started": "2022-02-16T19:24:33.913350Z"
    },
    "papermill": {
     "duration": 4.024748,
     "end_time": "2022-02-16T19:27:22.234190",
     "exception": false,
     "start_time": "2022-02-16T19:27:18.209442",
     "status": "completed"
    },
    "tags": []
   },
   "outputs": [
    {
     "data": {
      "text/html": [
       "<div>\n",
       "<style scoped>\n",
       "    .dataframe tbody tr th:only-of-type {\n",
       "        vertical-align: middle;\n",
       "    }\n",
       "\n",
       "    .dataframe tbody tr th {\n",
       "        vertical-align: top;\n",
       "    }\n",
       "\n",
       "    .dataframe thead th {\n",
       "        text-align: right;\n",
       "    }\n",
       "</style>\n",
       "<table border=\"1\" class=\"dataframe\">\n",
       "  <thead>\n",
       "    <tr style=\"text-align: right;\">\n",
       "      <th>Symbols</th>\n",
       "      <th>SMGBY</th>\n",
       "    </tr>\n",
       "    <tr>\n",
       "      <th>Date</th>\n",
       "      <th></th>\n",
       "    </tr>\n",
       "  </thead>\n",
       "  <tbody>\n",
       "    <tr>\n",
       "      <th>2020-10-12</th>\n",
       "      <td>19.210823</td>\n",
       "    </tr>\n",
       "    <tr>\n",
       "      <th>2020-10-13</th>\n",
       "      <td>19.210823</td>\n",
       "    </tr>\n",
       "    <tr>\n",
       "      <th>2020-10-14</th>\n",
       "      <td>19.210823</td>\n",
       "    </tr>\n",
       "    <tr>\n",
       "      <th>2020-10-15</th>\n",
       "      <td>20.107977</td>\n",
       "    </tr>\n",
       "    <tr>\n",
       "      <th>2020-10-16</th>\n",
       "      <td>20.107977</td>\n",
       "    </tr>\n",
       "  </tbody>\n",
       "</table>\n",
       "</div>"
      ],
      "text/plain": [
       "Symbols         SMGBY\n",
       "Date                 \n",
       "2020-10-12  19.210823\n",
       "2020-10-13  19.210823\n",
       "2020-10-14  19.210823\n",
       "2020-10-15  20.107977\n",
       "2020-10-16  20.107977"
      ]
     },
     "execution_count": 15,
     "metadata": {},
     "output_type": "execute_result"
    }
   ],
   "source": [
    "# Grab all the closing prices for the tech stock list into one DataFrame\n",
    "closing_df = DataReader(tech_list, 'yahoo', start, end)['Adj Close']\n",
    "\n",
    "# Let's take a quick look\n",
    "closing_df.head() "
   ]
  },
  {
   "cell_type": "code",
   "execution_count": 16,
   "id": "0c9ba237",
   "metadata": {
    "execution": {
     "iopub.execute_input": "2022-02-16T19:27:22.574582Z",
     "iopub.status.busy": "2022-02-16T19:27:22.573954Z",
     "iopub.status.idle": "2022-02-16T19:27:22.583200Z",
     "shell.execute_reply": "2022-02-16T19:27:22.583810Z",
     "shell.execute_reply.started": "2022-02-16T19:24:37.609238Z"
    },
    "papermill": {
     "duration": 0.097635,
     "end_time": "2022-02-16T19:27:22.583955",
     "exception": false,
     "start_time": "2022-02-16T19:27:22.486320",
     "status": "completed"
    },
    "tags": []
   },
   "outputs": [
    {
     "data": {
      "text/html": [
       "<div>\n",
       "<style scoped>\n",
       "    .dataframe tbody tr th:only-of-type {\n",
       "        vertical-align: middle;\n",
       "    }\n",
       "\n",
       "    .dataframe tbody tr th {\n",
       "        vertical-align: top;\n",
       "    }\n",
       "\n",
       "    .dataframe thead th {\n",
       "        text-align: right;\n",
       "    }\n",
       "</style>\n",
       "<table border=\"1\" class=\"dataframe\">\n",
       "  <thead>\n",
       "    <tr style=\"text-align: right;\">\n",
       "      <th>Symbols</th>\n",
       "      <th>SMGBY</th>\n",
       "    </tr>\n",
       "    <tr>\n",
       "      <th>Date</th>\n",
       "      <th></th>\n",
       "    </tr>\n",
       "  </thead>\n",
       "  <tbody>\n",
       "    <tr>\n",
       "      <th>2020-10-12</th>\n",
       "      <td>NaN</td>\n",
       "    </tr>\n",
       "    <tr>\n",
       "      <th>2020-10-13</th>\n",
       "      <td>0.0000</td>\n",
       "    </tr>\n",
       "    <tr>\n",
       "      <th>2020-10-14</th>\n",
       "      <td>0.0000</td>\n",
       "    </tr>\n",
       "    <tr>\n",
       "      <th>2020-10-15</th>\n",
       "      <td>0.0467</td>\n",
       "    </tr>\n",
       "    <tr>\n",
       "      <th>2020-10-16</th>\n",
       "      <td>0.0000</td>\n",
       "    </tr>\n",
       "  </tbody>\n",
       "</table>\n",
       "</div>"
      ],
      "text/plain": [
       "Symbols      SMGBY\n",
       "Date              \n",
       "2020-10-12     NaN\n",
       "2020-10-13  0.0000\n",
       "2020-10-14  0.0000\n",
       "2020-10-15  0.0467\n",
       "2020-10-16  0.0000"
      ]
     },
     "execution_count": 16,
     "metadata": {},
     "output_type": "execute_result"
    }
   ],
   "source": [
    "# Make a new tech returns DataFrame\n",
    "tech_rets = closing_df.pct_change()\n",
    "tech_rets.head()"
   ]
  },
  {
   "cell_type": "code",
   "execution_count": 17,
   "id": "26a03653",
   "metadata": {
    "execution": {
     "iopub.execute_input": "2022-02-16T19:27:22.925402Z",
     "iopub.status.busy": "2022-02-16T19:27:22.924665Z",
     "iopub.status.idle": "2022-02-16T19:27:23.537467Z",
     "shell.execute_reply": "2022-02-16T19:27:23.536775Z",
     "shell.execute_reply.started": "2022-02-16T19:25:29.374866Z"
    },
    "papermill": {
     "duration": 0.69938,
     "end_time": "2022-02-16T19:27:23.537627",
     "exception": false,
     "start_time": "2022-02-16T19:27:22.838247",
     "status": "completed"
    },
    "tags": []
   },
   "outputs": [
    {
     "data": {
      "text/plain": [
       "<seaborn.axisgrid.JointGrid at 0x20e3bb8f4c0>"
      ]
     },
     "execution_count": 17,
     "metadata": {},
     "output_type": "execute_result"
    },
    {
     "data": {
      "image/png": "[encoded data removed]",
      "text/plain": [
       "<Figure size 432x432 with 3 Axes>"
      ]
     },
     "metadata": {
      "needs_background": "light"
     },
     "output_type": "display_data"
    }
   ],
   "source": [
    "# Comparing Google to itself should show a perfectly linear relationship\n",
    "sns.jointplot(x='SMGBY', y='SMGBY', data=tech_rets, kind='scatter', color='seagreen')"
   ]
  },
  {
   "cell_type": "code",
   "execution_count": 18,
   "id": "08088bfb",
   "metadata": {
    "execution": {
     "iopub.execute_input": "2022-02-16T19:27:41.205301Z",
     "iopub.status.busy": "2022-02-16T19:27:41.181402Z",
     "iopub.status.idle": "2022-02-16T19:27:41.586998Z",
     "shell.execute_reply": "2022-02-16T19:27:41.587539Z",
     "shell.execute_reply.started": "2022-02-16T18:45:41.299804Z"
    },
    "papermill": {
     "duration": 0.501607,
     "end_time": "2022-02-16T19:27:41.587716",
     "exception": false,
     "start_time": "2022-02-16T19:27:41.086109",
     "status": "completed"
    },
    "tags": []
   },
   "outputs": [
    {
     "data": {
      "image/png": "[encoded data removed]",
      "text/plain": [
       "<Figure size 720x504 with 1 Axes>"
      ]
     },
     "metadata": {
      "needs_background": "light"
     },
     "output_type": "display_data"
    }
   ],
   "source": [
    "# Let's start by defining a new DataFrame as a clenaed version of the oriignal tech_rets DataFrame\n",
    "rets = tech_rets.dropna()\n",
    "\n",
    "area = np.pi * 20\n",
    "\n",
    "plt.figure(figsize=(10, 7))\n",
    "plt.scatter(rets.mean(), rets.std(), s=area)\n",
    "plt.xlabel('Expected return')\n",
    "plt.ylabel('Risk')\n",
    "\n",
    "for label, x, y in zip(rets.columns, rets.mean(), rets.std()):\n",
    "    plt.annotate(label, xy=(x, y), xytext=(50, 50), textcoords='offset points', ha='right', va='bottom', \n",
    "                 arrowprops=dict(arrowstyle='-', color='blue', connectionstyle='arc3,rad=-0.3'))"
   ]
  },
  {
   "cell_type": "code",
   "execution_count": 19,
   "id": "be188e83",
   "metadata": {
    "execution": {
     "iopub.execute_input": "2022-02-16T19:27:42.007960Z",
     "iopub.status.busy": "2022-02-16T19:27:42.007107Z",
     "iopub.status.idle": "2022-02-16T19:27:43.123411Z",
     "shell.execute_reply": "2022-02-16T19:27:43.123854Z",
     "shell.execute_reply.started": "2022-02-16T18:45:41.910947Z"
    },
    "papermill": {
     "duration": 1.226861,
     "end_time": "2022-02-16T19:27:43.124005",
     "exception": false,
     "start_time": "2022-02-16T19:27:41.897144",
     "status": "completed"
    },
    "scrolled": true,
    "tags": []
   },
   "outputs": [
    {
     "data": {
      "text/html": [
       "<div>\n",
       "<style scoped>\n",
       "    .dataframe tbody tr th:only-of-type {\n",
       "        vertical-align: middle;\n",
       "    }\n",
       "\n",
       "    .dataframe tbody tr th {\n",
       "        vertical-align: top;\n",
       "    }\n",
       "\n",
       "    .dataframe thead th {\n",
       "        text-align: right;\n",
       "    }\n",
       "</style>\n",
       "<table border=\"1\" class=\"dataframe\">\n",
       "  <thead>\n",
       "    <tr style=\"text-align: right;\">\n",
       "      <th></th>\n",
       "      <th>Date</th>\n",
       "      <th>Open</th>\n",
       "      <th>High</th>\n",
       "      <th>Low</th>\n",
       "      <th>Close</th>\n",
       "      <th>Adj Close</th>\n",
       "      <th>Volume</th>\n",
       "    </tr>\n",
       "  </thead>\n",
       "  <tbody>\n",
       "    <tr>\n",
       "      <th>0</th>\n",
       "      <td>2021-10-11</td>\n",
       "      <td>22.900000</td>\n",
       "      <td>22.900000</td>\n",
       "      <td>22.900000</td>\n",
       "      <td>22.900000</td>\n",
       "      <td>22.596573</td>\n",
       "      <td>0</td>\n",
       "    </tr>\n",
       "    <tr>\n",
       "      <th>1</th>\n",
       "      <td>2021-10-12</td>\n",
       "      <td>22.900000</td>\n",
       "      <td>22.900000</td>\n",
       "      <td>22.900000</td>\n",
       "      <td>22.900000</td>\n",
       "      <td>22.596573</td>\n",
       "      <td>0</td>\n",
       "    </tr>\n",
       "    <tr>\n",
       "      <th>2</th>\n",
       "      <td>2021-10-13</td>\n",
       "      <td>22.900000</td>\n",
       "      <td>22.900000</td>\n",
       "      <td>22.900000</td>\n",
       "      <td>22.900000</td>\n",
       "      <td>22.596573</td>\n",
       "      <td>0</td>\n",
       "    </tr>\n",
       "    <tr>\n",
       "      <th>3</th>\n",
       "      <td>2021-10-14</td>\n",
       "      <td>22.900000</td>\n",
       "      <td>22.900000</td>\n",
       "      <td>22.900000</td>\n",
       "      <td>22.900000</td>\n",
       "      <td>22.596573</td>\n",
       "      <td>0</td>\n",
       "    </tr>\n",
       "    <tr>\n",
       "      <th>4</th>\n",
       "      <td>2021-10-15</td>\n",
       "      <td>22.900000</td>\n",
       "      <td>22.900000</td>\n",
       "      <td>22.900000</td>\n",
       "      <td>22.900000</td>\n",
       "      <td>22.596573</td>\n",
       "      <td>0</td>\n",
       "    </tr>\n",
       "    <tr>\n",
       "      <th>...</th>\n",
       "      <td>...</td>\n",
       "      <td>...</td>\n",
       "      <td>...</td>\n",
       "      <td>...</td>\n",
       "      <td>...</td>\n",
       "      <td>...</td>\n",
       "      <td>...</td>\n",
       "    </tr>\n",
       "    <tr>\n",
       "      <th>247</th>\n",
       "      <td>2022-10-04</td>\n",
       "      <td>17.200001</td>\n",
       "      <td>17.200001</td>\n",
       "      <td>17.200001</td>\n",
       "      <td>17.200001</td>\n",
       "      <td>17.139000</td>\n",
       "      <td>0</td>\n",
       "    </tr>\n",
       "    <tr>\n",
       "      <th>248</th>\n",
       "      <td>2022-10-05</td>\n",
       "      <td>16.219999</td>\n",
       "      <td>16.219999</td>\n",
       "      <td>16.219999</td>\n",
       "      <td>16.219999</td>\n",
       "      <td>16.219999</td>\n",
       "      <td>400</td>\n",
       "    </tr>\n",
       "    <tr>\n",
       "      <th>249</th>\n",
       "      <td>2022-10-06</td>\n",
       "      <td>16.219999</td>\n",
       "      <td>16.219999</td>\n",
       "      <td>16.219999</td>\n",
       "      <td>16.219999</td>\n",
       "      <td>16.219999</td>\n",
       "      <td>0</td>\n",
       "    </tr>\n",
       "    <tr>\n",
       "      <th>250</th>\n",
       "      <td>2022-10-07</td>\n",
       "      <td>16.219999</td>\n",
       "      <td>16.219999</td>\n",
       "      <td>16.219999</td>\n",
       "      <td>16.219999</td>\n",
       "      <td>16.219999</td>\n",
       "      <td>0</td>\n",
       "    </tr>\n",
       "    <tr>\n",
       "      <th>251</th>\n",
       "      <td>2022-10-10</td>\n",
       "      <td>16.219999</td>\n",
       "      <td>16.219999</td>\n",
       "      <td>16.219999</td>\n",
       "      <td>16.219999</td>\n",
       "      <td>16.219999</td>\n",
       "      <td>0</td>\n",
       "    </tr>\n",
       "  </tbody>\n",
       "</table>\n",
       "<p>252 rows × 7 columns</p>\n",
       "</div>"
      ],
      "text/plain": [
       "           Date       Open       High        Low      Close  Adj Close  Volume\n",
       "0    2021-10-11  22.900000  22.900000  22.900000  22.900000  22.596573       0\n",
       "1    2021-10-12  22.900000  22.900000  22.900000  22.900000  22.596573       0\n",
       "2    2021-10-13  22.900000  22.900000  22.900000  22.900000  22.596573       0\n",
       "3    2021-10-14  22.900000  22.900000  22.900000  22.900000  22.596573       0\n",
       "4    2021-10-15  22.900000  22.900000  22.900000  22.900000  22.596573       0\n",
       "..          ...        ...        ...        ...        ...        ...     ...\n",
       "247  2022-10-04  17.200001  17.200001  17.200001  17.200001  17.139000       0\n",
       "248  2022-10-05  16.219999  16.219999  16.219999  16.219999  16.219999     400\n",
       "249  2022-10-06  16.219999  16.219999  16.219999  16.219999  16.219999       0\n",
       "250  2022-10-07  16.219999  16.219999  16.219999  16.219999  16.219999       0\n",
       "251  2022-10-10  16.219999  16.219999  16.219999  16.219999  16.219999       0\n",
       "\n",
       "[252 rows x 7 columns]"
      ]
     },
     "execution_count": 19,
     "metadata": {},
     "output_type": "execute_result"
    }
   ],
   "source": [
    "# Get the stock quote\n",
    "df = pd.read_csv(\"SMGBY - OCT 2020 - OCT 2022.csv\")\n",
    "# Show the data\n",
    "df"
   ]
  },
  {
   "cell_type": "code",
   "execution_count": 20,
   "id": "3dd7e21f",
   "metadata": {
    "execution": {
     "iopub.execute_input": "2022-02-16T19:27:43.303561Z",
     "iopub.status.busy": "2022-02-16T19:27:43.291097Z",
     "iopub.status.idle": "2022-02-16T19:27:43.679577Z",
     "shell.execute_reply": "2022-02-16T19:27:43.679013Z",
     "shell.execute_reply.started": "2022-02-16T18:45:43.099065Z"
    },
    "papermill": {
     "duration": 0.48163,
     "end_time": "2022-02-16T19:27:43.679717",
     "exception": false,
     "start_time": "2022-02-16T19:27:43.198087",
     "status": "completed"
    },
    "tags": []
   },
   "outputs": [
    {
     "data": {
      "image/png": "[encoded data removed]",
      "text/plain": [
       "<Figure size 1152x432 with 1 Axes>"
      ]
     },
     "metadata": {
      "needs_background": "light"
     },
     "output_type": "display_data"
    }
   ],
   "source": [
    "plt.figure(figsize=(16,6))\n",
    "plt.title('Close Price History')\n",
    "plt.plot(df['Close'])\n",
    "plt.xlabel('Date', fontsize=18)\n",
    "plt.ylabel('Close Price USD ($)', fontsize=18)\n",
    "plt.show()"
   ]
  },
  {
   "cell_type": "code",
   "execution_count": 21,
   "id": "a616f7c6",
   "metadata": {
    "execution": {
     "iopub.execute_input": "2022-02-16T19:27:43.899038Z",
     "iopub.status.busy": "2022-02-16T19:27:43.898214Z",
     "iopub.status.idle": "2022-02-16T19:27:43.902162Z",
     "shell.execute_reply": "2022-02-16T19:27:43.901593Z",
     "shell.execute_reply.started": "2022-02-16T18:45:43.606563Z"
    },
    "papermill": {
     "duration": 0.117174,
     "end_time": "2022-02-16T19:27:43.902321",
     "exception": false,
     "start_time": "2022-02-16T19:27:43.785147",
     "status": "completed"
    },
    "tags": []
   },
   "outputs": [
    {
     "data": {
      "text/plain": [
       "240"
      ]
     },
     "execution_count": 21,
     "metadata": {},
     "output_type": "execute_result"
    }
   ],
   "source": [
    "# Create a new dataframe with only the 'Close column \n",
    "data = df.filter(['Close'])\n",
    "# Convert the dataframe to a numpy array\n",
    "dataset = data.values\n",
    "# Get the number of rows to train the model on\n",
    "training_data_len = int(np.ceil( len(dataset) * .95 ))\n",
    "\n",
    "training_data_len"
   ]
  },
  {
   "cell_type": "code",
   "execution_count": 22,
   "id": "e240e9e5",
   "metadata": {
    "execution": {
     "iopub.execute_input": "2022-02-16T19:27:44.120922Z",
     "iopub.status.busy": "2022-02-16T19:27:44.120108Z",
     "iopub.status.idle": "2022-02-16T19:27:44.248321Z",
     "shell.execute_reply": "2022-02-16T19:27:44.248880Z",
     "shell.execute_reply.started": "2022-02-16T18:45:43.622961Z"
    },
    "papermill": {
     "duration": 0.240607,
     "end_time": "2022-02-16T19:27:44.249089",
     "exception": false,
     "start_time": "2022-02-16T19:27:44.008482",
     "status": "completed"
    },
    "tags": []
   },
   "outputs": [
    {
     "data": {
      "text/plain": [
       "array([[1.        ],\n",
       "       [1.        ],\n",
       "       [1.        ],\n",
       "       [1.        ],\n",
       "       [1.        ],\n",
       "       [1.        ],\n",
       "       [1.        ],\n",
       "       [1.        ],\n",
       "       [1.        ],\n",
       "       [1.        ],\n",
       "       [1.        ],\n",
       "       [1.        ],\n",
       "       [0.97754491],\n",
       "       [0.88772457],\n",
       "       [0.88772457],\n",
       "       [0.88772457],\n",
       "       [0.88772457],\n",
       "       [0.88772457],\n",
       "       [0.88772457],\n",
       "       [0.98203608],\n",
       "       [0.98203608],\n",
       "       [0.98203608],\n",
       "       [0.93862276],\n",
       "       [0.93862276],\n",
       "       [0.93862276],\n",
       "       [0.93862276],\n",
       "       [0.93862276],\n",
       "       [0.93862276],\n",
       "       [0.93862276],\n",
       "       [0.93862276],\n",
       "       [0.93862276],\n",
       "       [0.93862276],\n",
       "       [0.93862276],\n",
       "       [0.93862276],\n",
       "       [0.93862276],\n",
       "       [0.93862276],\n",
       "       [0.93862276],\n",
       "       [0.93862276],\n",
       "       [0.93862276],\n",
       "       [0.93862276],\n",
       "       [0.93862276],\n",
       "       [0.93862276],\n",
       "       [0.93862276],\n",
       "       [0.93862276],\n",
       "       [0.93862276],\n",
       "       [0.93862276],\n",
       "       [0.93862276],\n",
       "       [0.93862276],\n",
       "       [0.96556887],\n",
       "       [0.96556887],\n",
       "       [0.96556887],\n",
       "       [0.96556887],\n",
       "       [0.96556887],\n",
       "       [0.96556887],\n",
       "       [0.96556887],\n",
       "       [0.96556887],\n",
       "       [0.96556887],\n",
       "       [0.96556887],\n",
       "       [0.94011977],\n",
       "       [0.94011977],\n",
       "       [0.94011977],\n",
       "       [0.94011977],\n",
       "       [0.94011977],\n",
       "       [0.94011977],\n",
       "       [0.94011977],\n",
       "       [0.94011977],\n",
       "       [0.94011977],\n",
       "       [0.94011977],\n",
       "       [0.94011977],\n",
       "       [0.94011977],\n",
       "       [0.94011977],\n",
       "       [0.94011977],\n",
       "       [0.94011977],\n",
       "       [0.94011977],\n",
       "       [0.94011977],\n",
       "       [0.94011977],\n",
       "       [0.94011977],\n",
       "       [0.94011977],\n",
       "       [0.94011977],\n",
       "       [0.94011977],\n",
       "       [0.94011977],\n",
       "       [0.94011977],\n",
       "       [0.94011977],\n",
       "       [0.94011977],\n",
       "       [0.94011977],\n",
       "       [0.6497005 ],\n",
       "       [0.58832341],\n",
       "       [0.58832341],\n",
       "       [0.58832341],\n",
       "       [0.58832341],\n",
       "       [0.58832341],\n",
       "       [0.7664671 ],\n",
       "       [0.7664671 ],\n",
       "       [0.7664671 ],\n",
       "       [0.7664671 ],\n",
       "       [0.64071862],\n",
       "       [0.64071862],\n",
       "       [0.64071862],\n",
       "       [0.64071862],\n",
       "       [0.64071862],\n",
       "       [0.64071862],\n",
       "       [0.64071862],\n",
       "       [0.64071862],\n",
       "       [0.64071862],\n",
       "       [0.64071862],\n",
       "       [0.64071862],\n",
       "       [0.64071862],\n",
       "       [0.64071862],\n",
       "       [0.64071862],\n",
       "       [0.65568867],\n",
       "       [0.65568867],\n",
       "       [0.65568867],\n",
       "       [0.65568867],\n",
       "       [0.65568867],\n",
       "       [0.65568867],\n",
       "       [0.65568867],\n",
       "       [0.65568867],\n",
       "       [0.65568867],\n",
       "       [0.65568867],\n",
       "       [0.65568867],\n",
       "       [0.65568867],\n",
       "       [0.65568867],\n",
       "       [0.65568867],\n",
       "       [0.65568867],\n",
       "       [0.65568867],\n",
       "       [0.65568867],\n",
       "       [0.65568867],\n",
       "       [0.65568867],\n",
       "       [0.77694614],\n",
       "       [0.77694614],\n",
       "       [0.7649701 ],\n",
       "       [0.7649701 ],\n",
       "       [0.7649701 ],\n",
       "       [0.7649701 ],\n",
       "       [0.7649701 ],\n",
       "       [0.7649701 ],\n",
       "       [0.7649701 ],\n",
       "       [0.7649701 ],\n",
       "       [0.7649701 ],\n",
       "       [0.7649701 ],\n",
       "       [0.7649701 ],\n",
       "       [0.7649701 ],\n",
       "       [0.7649701 ],\n",
       "       [0.7649701 ],\n",
       "       [0.52844318],\n",
       "       [0.52844318],\n",
       "       [0.52844318],\n",
       "       [0.52844318],\n",
       "       [0.54940112],\n",
       "       [0.54940112],\n",
       "       [0.48652687],\n",
       "       [0.45658691],\n",
       "       [0.45658691],\n",
       "       [0.60628748],\n",
       "       [0.60628748],\n",
       "       [0.60628748],\n",
       "       [0.68113777],\n",
       "       [0.68113777],\n",
       "       [0.51796414],\n",
       "       [0.51796414],\n",
       "       [0.51796414],\n",
       "       [0.51796414],\n",
       "       [0.51796414],\n",
       "       [0.51796414],\n",
       "       [0.51796414],\n",
       "       [0.51796414],\n",
       "       [0.51796414],\n",
       "       [0.51796414],\n",
       "       [0.59281443],\n",
       "       [0.59281443],\n",
       "       [0.59281443],\n",
       "       [0.41616775],\n",
       "       [0.41616775],\n",
       "       [0.41616775],\n",
       "       [0.41616775],\n",
       "       [0.41616775],\n",
       "       [0.41616775],\n",
       "       [0.41616775],\n",
       "       [0.41616775],\n",
       "       [0.41616775],\n",
       "       [0.41616775],\n",
       "       [0.41616775],\n",
       "       [0.41616775],\n",
       "       [0.41616775],\n",
       "       [0.41616775],\n",
       "       [0.41616775],\n",
       "       [0.41616775],\n",
       "       [0.41616775],\n",
       "       [0.41616775],\n",
       "       [0.41616775],\n",
       "       [0.41616775],\n",
       "       [0.41616775],\n",
       "       [0.41616775],\n",
       "       [0.41616775],\n",
       "       [0.41616775],\n",
       "       [0.41616775],\n",
       "       [0.41616775],\n",
       "       [0.41616775],\n",
       "       [0.41616775],\n",
       "       [0.41616775],\n",
       "       [0.41616775],\n",
       "       [0.41616775],\n",
       "       [0.41616775],\n",
       "       [0.41616775],\n",
       "       [0.41616775],\n",
       "       [0.41616775],\n",
       "       [0.41616775],\n",
       "       [0.41616775],\n",
       "       [0.41616775],\n",
       "       [0.41616775],\n",
       "       [0.41616775],\n",
       "       [0.41616775],\n",
       "       [0.41616775],\n",
       "       [0.41616775],\n",
       "       [0.41616775],\n",
       "       [0.41616775],\n",
       "       [0.41616775],\n",
       "       [0.41616775],\n",
       "       [0.41616775],\n",
       "       [0.41616775],\n",
       "       [0.35778468],\n",
       "       [0.35778468],\n",
       "       [0.14820357],\n",
       "       [0.14820357],\n",
       "       [0.14820357],\n",
       "       [0.14820357],\n",
       "       [0.14820357],\n",
       "       [0.14820357],\n",
       "       [0.14820357],\n",
       "       [0.14820357],\n",
       "       [0.14820357],\n",
       "       [0.14820357],\n",
       "       [0.14820357],\n",
       "       [0.14820357],\n",
       "       [0.14820357],\n",
       "       [0.14820357],\n",
       "       [0.14820357],\n",
       "       [0.14820357],\n",
       "       [0.14820357],\n",
       "       [0.14820357],\n",
       "       [0.14820357],\n",
       "       [0.05688637],\n",
       "       [0.05688637],\n",
       "       [0.05688637],\n",
       "       [0.05688637],\n",
       "       [0.14670686],\n",
       "       [0.14670686],\n",
       "       [0.14670686],\n",
       "       [0.        ],\n",
       "       [0.        ],\n",
       "       [0.        ],\n",
       "       [0.        ]])"
      ]
     },
     "execution_count": 22,
     "metadata": {},
     "output_type": "execute_result"
    }
   ],
   "source": [
    "# Scale the data\n",
    "from sklearn.preprocessing import MinMaxScaler\n",
    "\n",
    "scaler = MinMaxScaler(feature_range=(0,1))\n",
    "scaled_data = scaler.fit_transform(dataset)\n",
    "\n",
    "scaled_data"
   ]
  },
  {
   "cell_type": "code",
   "execution_count": 23,
   "id": "87cabb30",
   "metadata": {
    "_kg_hide-output": true,
    "execution": {
     "iopub.execute_input": "2022-02-16T19:27:44.472887Z",
     "iopub.status.busy": "2022-02-16T19:27:44.472348Z",
     "iopub.status.idle": "2022-02-16T19:27:44.483988Z",
     "shell.execute_reply": "2022-02-16T19:27:44.484657Z",
     "shell.execute_reply.started": "2022-02-16T18:45:43.873542Z"
    },
    "papermill": {
     "duration": 0.128093,
     "end_time": "2022-02-16T19:27:44.484878",
     "exception": false,
     "start_time": "2022-02-16T19:27:44.356785",
     "status": "completed"
    },
    "tags": []
   },
   "outputs": [
    {
     "name": "stdout",
     "output_type": "stream",
     "text": [
      "[array([1.        , 1.        , 1.        , 1.        , 1.        ,\n",
      "       1.        , 1.        , 1.        , 1.        , 1.        ,\n",
      "       1.        , 1.        , 0.97754491, 0.88772457, 0.88772457,\n",
      "       0.88772457, 0.88772457, 0.88772457, 0.88772457, 0.98203608,\n",
      "       0.98203608, 0.98203608, 0.93862276, 0.93862276, 0.93862276,\n",
      "       0.93862276, 0.93862276, 0.93862276, 0.93862276, 0.93862276,\n",
      "       0.93862276, 0.93862276, 0.93862276, 0.93862276, 0.93862276,\n",
      "       0.93862276, 0.93862276, 0.93862276, 0.93862276, 0.93862276,\n",
      "       0.93862276, 0.93862276, 0.93862276, 0.93862276, 0.93862276,\n",
      "       0.93862276, 0.93862276, 0.93862276, 0.96556887, 0.96556887,\n",
      "       0.96556887, 0.96556887, 0.96556887, 0.96556887, 0.96556887,\n",
      "       0.96556887, 0.96556887, 0.96556887, 0.94011977, 0.94011977])]\n",
      "[0.9401197694431485]\n",
      "\n",
      "[array([1.        , 1.        , 1.        , 1.        , 1.        ,\n",
      "       1.        , 1.        , 1.        , 1.        , 1.        ,\n",
      "       1.        , 1.        , 0.97754491, 0.88772457, 0.88772457,\n",
      "       0.88772457, 0.88772457, 0.88772457, 0.88772457, 0.98203608,\n",
      "       0.98203608, 0.98203608, 0.93862276, 0.93862276, 0.93862276,\n",
      "       0.93862276, 0.93862276, 0.93862276, 0.93862276, 0.93862276,\n",
      "       0.93862276, 0.93862276, 0.93862276, 0.93862276, 0.93862276,\n",
      "       0.93862276, 0.93862276, 0.93862276, 0.93862276, 0.93862276,\n",
      "       0.93862276, 0.93862276, 0.93862276, 0.93862276, 0.93862276,\n",
      "       0.93862276, 0.93862276, 0.93862276, 0.96556887, 0.96556887,\n",
      "       0.96556887, 0.96556887, 0.96556887, 0.96556887, 0.96556887,\n",
      "       0.96556887, 0.96556887, 0.96556887, 0.94011977, 0.94011977]), array([1.        , 1.        , 1.        , 1.        , 1.        ,\n",
      "       1.        , 1.        , 1.        , 1.        , 1.        ,\n",
      "       1.        , 0.97754491, 0.88772457, 0.88772457, 0.88772457,\n",
      "       0.88772457, 0.88772457, 0.88772457, 0.98203608, 0.98203608,\n",
      "       0.98203608, 0.93862276, 0.93862276, 0.93862276, 0.93862276,\n",
      "       0.93862276, 0.93862276, 0.93862276, 0.93862276, 0.93862276,\n",
      "       0.93862276, 0.93862276, 0.93862276, 0.93862276, 0.93862276,\n",
      "       0.93862276, 0.93862276, 0.93862276, 0.93862276, 0.93862276,\n",
      "       0.93862276, 0.93862276, 0.93862276, 0.93862276, 0.93862276,\n",
      "       0.93862276, 0.93862276, 0.96556887, 0.96556887, 0.96556887,\n",
      "       0.96556887, 0.96556887, 0.96556887, 0.96556887, 0.96556887,\n",
      "       0.96556887, 0.96556887, 0.94011977, 0.94011977, 0.94011977])]\n",
      "[0.9401197694431485, 0.9401197694431485]\n",
      "\n"
     ]
    }
   ],
   "source": [
    "# Create the training data set \n",
    "# Create the scaled training data set\n",
    "train_data = scaled_data[0:int(training_data_len), :]\n",
    "# Split the data into x_train and y_train data sets\n",
    "x_train = []\n",
    "y_train= []\n",
    "\n",
    "for i in range(60, len(train_data)):\n",
    "    x_train.append(train_data[i-60:i, 0])\n",
    "    y_train.append(train_data[i, 0])\n",
    "    if i<= 61:\n",
    "        print(x_train)\n",
    "        print(y_train)\n",
    "        print()\n",
    "        \n",
    "# Convert the x_train and y_train to numpy arrays \n",
    "x_train, y_train = np.array(x_train), np.array(y_train)\n",
    "\n",
    "# Reshape the data\n",
    "x_train = np.reshape(x_train, (x_train.shape[0], x_train.shape[1], 1))\n",
    "# x_train.shape"
   ]
  },
  {
   "cell_type": "code",
   "execution_count": 24,
   "id": "3b0a2cf1",
   "metadata": {
    "execution": {
     "iopub.execute_input": "2022-02-16T19:27:44.706762Z",
     "iopub.status.busy": "2022-02-16T19:27:44.706114Z",
     "iopub.status.idle": "2022-02-16T19:29:27.837434Z",
     "shell.execute_reply": "2022-02-16T19:29:27.836965Z",
     "shell.execute_reply.started": "2022-02-16T18:45:43.896022Z"
    },
    "papermill": {
     "duration": 103.243164,
     "end_time": "2022-02-16T19:29:27.837592",
     "exception": false,
     "start_time": "2022-02-16T19:27:44.594428",
     "status": "completed"
    },
    "tags": []
   },
   "outputs": [
    {
     "name": "stdout",
     "output_type": "stream",
     "text": [
      "Epoch 1/50\n",
      "6/6 [==============================] - 7s 74ms/step - loss: 0.1538\n",
      "Epoch 2/50\n",
      "6/6 [==============================] - 0s 73ms/step - loss: 0.0236\n",
      "Epoch 3/50\n",
      "6/6 [==============================] - 0s 77ms/step - loss: 0.0176\n",
      "Epoch 4/50\n",
      "6/6 [==============================] - 0s 80ms/step - loss: 0.0155\n",
      "Epoch 5/50\n",
      "6/6 [==============================] - 0s 80ms/step - loss: 0.0114\n",
      "Epoch 6/50\n",
      "6/6 [==============================] - 1s 84ms/step - loss: 0.0101\n",
      "Epoch 7/50\n",
      "6/6 [==============================] - 1s 83ms/step - loss: 0.0090\n",
      "Epoch 8/50\n",
      "6/6 [==============================] - 0s 80ms/step - loss: 0.0077\n",
      "Epoch 9/50\n",
      "6/6 [==============================] - 0s 82ms/step - loss: 0.0073\n",
      "Epoch 10/50\n",
      "6/6 [==============================] - 1s 89ms/step - loss: 0.0069\n",
      "Epoch 11/50\n",
      "6/6 [==============================] - 0s 81ms/step - loss: 0.0066\n",
      "Epoch 12/50\n",
      "6/6 [==============================] - 0s 79ms/step - loss: 0.0065\n",
      "Epoch 13/50\n",
      "6/6 [==============================] - 0s 73ms/step - loss: 0.0062\n",
      "Epoch 14/50\n",
      "6/6 [==============================] - 0s 70ms/step - loss: 0.0063\n",
      "Epoch 15/50\n",
      "6/6 [==============================] - 0s 75ms/step - loss: 0.0062\n",
      "Epoch 16/50\n",
      "6/6 [==============================] - 0s 72ms/step - loss: 0.0061\n",
      "Epoch 17/50\n",
      "6/6 [==============================] - 1s 85ms/step - loss: 0.0061\n",
      "Epoch 18/50\n",
      "6/6 [==============================] - 0s 73ms/step - loss: 0.0060\n",
      "Epoch 19/50\n",
      "6/6 [==============================] - 0s 72ms/step - loss: 0.0060\n",
      "Epoch 20/50\n",
      "6/6 [==============================] - 0s 72ms/step - loss: 0.0061\n",
      "Epoch 21/50\n",
      "6/6 [==============================] - 0s 73ms/step - loss: 0.0060\n",
      "Epoch 22/50\n",
      "6/6 [==============================] - 0s 73ms/step - loss: 0.0062\n",
      "Epoch 23/50\n",
      "6/6 [==============================] - 0s 75ms/step - loss: 0.0058\n",
      "Epoch 24/50\n",
      "6/6 [==============================] - 0s 72ms/step - loss: 0.0061\n",
      "Epoch 25/50\n",
      "6/6 [==============================] - 0s 72ms/step - loss: 0.0056\n",
      "Epoch 26/50\n",
      "6/6 [==============================] - 0s 72ms/step - loss: 0.0061\n",
      "Epoch 27/50\n",
      "6/6 [==============================] - 0s 75ms/step - loss: 0.0059\n",
      "Epoch 28/50\n",
      "6/6 [==============================] - 0s 81ms/step - loss: 0.0060\n",
      "Epoch 29/50\n",
      "6/6 [==============================] - 1s 87ms/step - loss: 0.0057\n",
      "Epoch 30/50\n",
      "6/6 [==============================] - 1s 112ms/step - loss: 0.0060\n",
      "Epoch 31/50\n",
      "6/6 [==============================] - 1s 80ms/step - loss: 0.0064\n",
      "Epoch 32/50\n",
      "6/6 [==============================] - 0s 75ms/step - loss: 0.0066\n",
      "Epoch 33/50\n",
      "6/6 [==============================] - 0s 74ms/step - loss: 0.0060\n",
      "Epoch 34/50\n",
      "6/6 [==============================] - 0s 73ms/step - loss: 0.0058\n",
      "Epoch 35/50\n",
      "6/6 [==============================] - 0s 73ms/step - loss: 0.0056\n",
      "Epoch 36/50\n",
      "6/6 [==============================] - 0s 72ms/step - loss: 0.0056\n",
      "Epoch 37/50\n",
      "6/6 [==============================] - 0s 73ms/step - loss: 0.0055\n",
      "Epoch 38/50\n",
      "6/6 [==============================] - 0s 75ms/step - loss: 0.0051\n",
      "Epoch 39/50\n",
      "6/6 [==============================] - 1s 83ms/step - loss: 0.0051\n",
      "Epoch 40/50\n",
      "6/6 [==============================] - 0s 71ms/step - loss: 0.0053\n",
      "Epoch 41/50\n",
      "6/6 [==============================] - 1s 88ms/step - loss: 0.0051\n",
      "Epoch 42/50\n",
      "6/6 [==============================] - 1s 106ms/step - loss: 0.0050\n",
      "Epoch 43/50\n",
      "6/6 [==============================] - 0s 79ms/step - loss: 0.0053\n",
      "Epoch 44/50\n",
      "6/6 [==============================] - 0s 82ms/step - loss: 0.0051\n",
      "Epoch 45/50\n",
      "6/6 [==============================] - 0s 69ms/step - loss: 0.0059\n",
      "Epoch 46/50\n",
      "6/6 [==============================] - 0s 81ms/step - loss: 0.0056\n",
      "Epoch 47/50\n",
      "6/6 [==============================] - 0s 76ms/step - loss: 0.0053\n",
      "Epoch 48/50\n",
      "6/6 [==============================] - 0s 80ms/step - loss: 0.0054\n",
      "Epoch 49/50\n",
      "6/6 [==============================] - 0s 79ms/step - loss: 0.0050\n",
      "Epoch 50/50\n",
      "6/6 [==============================] - 0s 83ms/step - loss: 0.0048\n"
     ]
    },
    {
     "data": {
      "text/plain": [
       "<keras.callbacks.History at 0x20e465edf10>"
      ]
     },
     "execution_count": 24,
     "metadata": {},
     "output_type": "execute_result"
    }
   ],
   "source": [
    "from keras.models import Sequential\n",
    "from keras.layers import Dense, LSTM\n",
    "\n",
    "# Build the LSTM model\n",
    "model = Sequential()\n",
    "model.add(LSTM(128, return_sequences=True, input_shape= (x_train.shape[1], 1)))\n",
    "model.add(LSTM(64, return_sequences=False))\n",
    "model.add(Dense(25))\n",
    "model.add(Dense(1))\n",
    "\n",
    "# Compile the model\n",
    "model.compile(optimizer='adam', loss='mean_squared_error')\n",
    "\n",
    "# Train the model\n",
    "model.fit(x_train, y_train, batch_size=32, epochs=50)"
   ]
  },
  {
   "cell_type": "code",
   "execution_count": 25,
   "id": "03ff7ff9",
   "metadata": {
    "execution": {
     "iopub.execute_input": "2022-02-16T19:29:28.744776Z",
     "iopub.status.busy": "2022-02-16T19:29:28.742411Z",
     "iopub.status.idle": "2022-02-16T19:29:29.844123Z",
     "shell.execute_reply": "2022-02-16T19:29:29.844715Z",
     "shell.execute_reply.started": "2022-02-16T18:48:27.505874Z"
    },
    "papermill": {
     "duration": 1.559536,
     "end_time": "2022-02-16T19:29:29.844894",
     "exception": false,
     "start_time": "2022-02-16T19:29:28.285358",
     "status": "completed"
    },
    "tags": []
   },
   "outputs": [
    {
     "name": "stdout",
     "output_type": "stream",
     "text": [
      "1/1 [==============================] - 1s 1s/step\n"
     ]
    },
    {
     "data": {
      "text/plain": [
       "0.4545661805896413"
      ]
     },
     "execution_count": 25,
     "metadata": {},
     "output_type": "execute_result"
    }
   ],
   "source": [
    "# Create the testing data set\n",
    "# Create a new array containing scaled values from index 1543 to 2002 \n",
    "test_data = scaled_data[training_data_len - 60: , :]\n",
    "# Create the data sets x_test and y_test\n",
    "x_test = []\n",
    "y_test = dataset[training_data_len:, :]\n",
    "for i in range(60, len(test_data)):\n",
    "    x_test.append(test_data[i-60:i, 0])\n",
    "    \n",
    "# Convert the data to a numpy array\n",
    "x_test = np.array(x_test)\n",
    "\n",
    "# Reshape the data\n",
    "x_test = np.reshape(x_test, (x_test.shape[0], x_test.shape[1], 1 ))\n",
    "\n",
    "# Get the models predicted price values \n",
    "predictions = model.predict(x_test)\n",
    "predictions = scaler.inverse_transform(predictions)\n",
    "\n",
    "# Get the root mean squared error (RMSE)\n",
    "rmse = np.sqrt(np.mean(((predictions - y_test) ** 2)))\n",
    "rmse"
   ]
  },
  {
   "cell_type": "code",
   "execution_count": 26,
   "id": "655df1f8",
   "metadata": {
    "execution": {
     "iopub.execute_input": "2022-02-16T19:29:31.252637Z",
     "iopub.status.busy": "2022-02-16T19:29:31.251954Z",
     "iopub.status.idle": "2022-02-16T19:29:31.661676Z",
     "shell.execute_reply": "2022-02-16T19:29:31.662275Z",
     "shell.execute_reply.started": "2022-02-16T18:48:28.548884Z"
    },
    "papermill": {
     "duration": 1.115394,
     "end_time": "2022-02-16T19:29:31.662457",
     "exception": false,
     "start_time": "2022-02-16T19:29:30.547063",
     "status": "completed"
    },
    "tags": []
   },
   "outputs": [
    {
     "name": "stderr",
     "output_type": "stream",
     "text": [
      "C:\\Users\\james\\AppData\\Local\\Temp\\ipykernel_17452\\2392148370.py:4: SettingWithCopyWarning: \n",
      "A value is trying to be set on a copy of a slice from a DataFrame.\n",
      "Try using .loc[row_indexer,col_indexer] = value instead\n",
      "\n",
      "See the caveats in the documentation: https://pandas.pydata.org/pandas-docs/stable/user_guide/indexing.html#returning-a-view-versus-a-copy\n",
      "  valid['Predictions'] = predictions\n"
     ]
    },
    {
     "data": {
      "image/png": "[encoded data removed]",
      "text/plain": [
       "<Figure size 1152x432 with 1 Axes>"
      ]
     },
     "metadata": {
      "needs_background": "light"
     },
     "output_type": "display_data"
    }
   ],
   "source": [
    "# Plot the data\n",
    "train = data[:training_data_len]\n",
    "valid = data[training_data_len:]\n",
    "valid['Predictions'] = predictions\n",
    "# Visualize the data\n",
    "plt.figure(figsize=(16,6))\n",
    "plt.title('Model')\n",
    "plt.xlabel('Date', fontsize=18)\n",
    "plt.ylabel('Close Price PHP', fontsize=18)\n",
    "plt.plot(train['Close'])\n",
    "plt.plot(valid[['Close', 'Predictions']])\n",
    "plt.legend(['Train', 'Val', 'Predictions'], loc='upper right')\n",
    "plt.show()"
   ]
  },
  {
   "cell_type": "code",
   "execution_count": 27,
   "id": "dd95df61",
   "metadata": {
    "execution": {
     "iopub.execute_input": "2022-02-16T19:29:33.069235Z",
     "iopub.status.busy": "2022-02-16T19:29:33.068619Z",
     "iopub.status.idle": "2022-02-16T19:29:33.078250Z",
     "shell.execute_reply": "2022-02-16T19:29:33.078883Z",
     "shell.execute_reply.started": "2022-02-16T18:48:29.012801Z"
    },
    "papermill": {
     "duration": 0.717585,
     "end_time": "2022-02-16T19:29:33.079035",
     "exception": false,
     "start_time": "2022-02-16T19:29:32.361450",
     "status": "completed"
    },
    "tags": []
   },
   "outputs": [
    {
     "data": {
      "text/html": [
       "<div>\n",
       "<style scoped>\n",
       "    .dataframe tbody tr th:only-of-type {\n",
       "        vertical-align: middle;\n",
       "    }\n",
       "\n",
       "    .dataframe tbody tr th {\n",
       "        vertical-align: top;\n",
       "    }\n",
       "\n",
       "    .dataframe thead th {\n",
       "        text-align: right;\n",
       "    }\n",
       "</style>\n",
       "<table border=\"1\" class=\"dataframe\">\n",
       "  <thead>\n",
       "    <tr style=\"text-align: right;\">\n",
       "      <th></th>\n",
       "      <th>Close</th>\n",
       "      <th>Predictions</th>\n",
       "    </tr>\n",
       "  </thead>\n",
       "  <tbody>\n",
       "    <tr>\n",
       "      <th>240</th>\n",
       "      <td>17.209999</td>\n",
       "      <td>17.157711</td>\n",
       "    </tr>\n",
       "    <tr>\n",
       "      <th>241</th>\n",
       "      <td>16.600000</td>\n",
       "      <td>17.155876</td>\n",
       "    </tr>\n",
       "    <tr>\n",
       "      <th>242</th>\n",
       "      <td>16.600000</td>\n",
       "      <td>17.089140</td>\n",
       "    </tr>\n",
       "    <tr>\n",
       "      <th>243</th>\n",
       "      <td>16.600000</td>\n",
       "      <td>16.996887</td>\n",
       "    </tr>\n",
       "    <tr>\n",
       "      <th>244</th>\n",
       "      <td>16.600000</td>\n",
       "      <td>16.901382</td>\n",
       "    </tr>\n",
       "    <tr>\n",
       "      <th>245</th>\n",
       "      <td>17.200001</td>\n",
       "      <td>16.814436</td>\n",
       "    </tr>\n",
       "    <tr>\n",
       "      <th>246</th>\n",
       "      <td>17.200001</td>\n",
       "      <td>16.801954</td>\n",
       "    </tr>\n",
       "    <tr>\n",
       "      <th>247</th>\n",
       "      <td>17.200001</td>\n",
       "      <td>16.830746</td>\n",
       "    </tr>\n",
       "    <tr>\n",
       "      <th>248</th>\n",
       "      <td>16.219999</td>\n",
       "      <td>16.878454</td>\n",
       "    </tr>\n",
       "    <tr>\n",
       "      <th>249</th>\n",
       "      <td>16.219999</td>\n",
       "      <td>16.829369</td>\n",
       "    </tr>\n",
       "    <tr>\n",
       "      <th>250</th>\n",
       "      <td>16.219999</td>\n",
       "      <td>16.735283</td>\n",
       "    </tr>\n",
       "    <tr>\n",
       "      <th>251</th>\n",
       "      <td>16.219999</td>\n",
       "      <td>16.627872</td>\n",
       "    </tr>\n",
       "  </tbody>\n",
       "</table>\n",
       "</div>"
      ],
      "text/plain": [
       "         Close  Predictions\n",
       "240  17.209999    17.157711\n",
       "241  16.600000    17.155876\n",
       "242  16.600000    17.089140\n",
       "243  16.600000    16.996887\n",
       "244  16.600000    16.901382\n",
       "245  17.200001    16.814436\n",
       "246  17.200001    16.801954\n",
       "247  17.200001    16.830746\n",
       "248  16.219999    16.878454\n",
       "249  16.219999    16.829369\n",
       "250  16.219999    16.735283\n",
       "251  16.219999    16.627872"
      ]
     },
     "execution_count": 27,
     "metadata": {},
     "output_type": "execute_result"
    }
   ],
   "source": [
    "# Show the valid and predicted prices\n",
    "valid"
   ]
  }
 ],
 "metadata": {
  "kernelspec": {
   "display_name": "Python 3 (ipykernel)",
   "language": "python",
   "name": "python3"
  },
  "language_info": {
   "codemirror_mode": {
    "name": "ipython",
    "version": 3
   },
   "file_extension": ".py",
   "mimetype": "text/x-python",
   "name": "python",
   "nbconvert_exporter": "python",
   "pygments_lexer": "ipython3",
   "version": "3.9.12"
  },
  "papermill": {
   "default_parameters": {},
   "duration": 175.931953,
   "end_time": "2022-02-16T19:29:36.783727",
   "environment_variables": {},
   "exception": null,
   "input_path": "__notebook__.ipynb",
   "output_path": "__notebook__.ipynb",
   "parameters": {},
   "start_time": "2022-02-16T19:26:40.851774",
   "version": "2.3.3"
  }
 },
 "nbformat": 4,
 "nbformat_minor": 5
}
